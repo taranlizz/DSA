{
 "cells": [
  {
   "metadata": {},
   "cell_type": "markdown",
   "source": [
    "# Data structures\n",
    "## What are data structures?\n",
    "Data structures are specialized formats for organizing and storing data in a computer so it can be used efficiently.\n",
    "\n",
    "Data structures can be implemented using a variety of a programming languages and techniques, but they all share the common goal of efficiently organizing and storing data.\n",
    "## Importance of data structures\n",
    "Data structures are crucial in the field of computer science and coding because they offer a method of organizing and storing data in an efficient and manageable format.\n",
    "\n",
    "They’re critical because they form the foundation for modern algorithm design.\n",
    "\n",
    "Our ability to choose or design the most suited data structure for a particular task can be the difference between a solution that’s functional and efficient and one that isn’t.\n",
    "\n",
    "They allow data to be processed in a variety of ways - stored, sorted, ordered, or accessed - which is integral to software of database development.\n",
    "\n",
    "By implementing effective data structures, programmers can enhance performance, ease coding procedures, allow flexibility of data and most importantly, reduce complexity of code in a significant manner.\n",
    "\n",
    "# Algorithms\n",
    "## The definition of algorithm\n",
    "An algorithm is a finite, well-defined sequence of steps or instructions designed to solve a specific problem or perform a task. It takes an input, processes it through a structured set of operations, and produces an output.\n",
    "At the same time, all the data necessary to solve the problem is organized in a special way into a so-called structure (a structured data type).\n",
    "\n",
    "Algorithms can’t exist without data structures.\n",
    "\n",
    "The main feature of any algorithm is its formal execution, which allows the specified actions (commands) to be performed not only by a human but also by various technical devices (executors).\n",
    "\n",
    "The process of creating an algorithm is called **algorithmization**. Algorithms can be represented in different ways: **verbally, in tabular form, or graphically** (using flowcharts).\n",
    "\n",
    "- **Verbal representation** describes the algorithm using words and sentences.\n",
    "- **Tabular representation** presents the algorithm in the form of tables and mathematical formulas.\n",
    "- **Graphical representation**, or **flowchart**, is a method of visualizing an algorithm using geometric shapes called blocks. The sequence of blocks and connecting lines forms the algorithm’s flowchart.\n",
    "\n",
    "## Properties of an algorithm\n",
    "\n",
    "To understand how an algorithm works, it is not enough to simply examine its steps. It is also necessary to clarify a few important aspects:\n",
    "\n",
    "1. **Algorithm Behavior:** Does it find the best possible solution or just a good one? Can there be multiple best solutions? Is it worth choosing one over the others?\n",
    "2. **Algorithm speed.** Is it fast or not? Does it slow down only with certain input data?\n",
    "3. **Algorithm memory requirements.** How many computational resources does it need? Is this amount acceptable? Does the algorithm require millions of terabytes of memory that a computer does not have (at least for now)?\n",
    "4. **Key methods used in the algorithm.** Can they be reused to solve similar problems?\n",
    "\n",
    "The properties of an algorithm are:\n",
    "\n",
    "1. **Discreteness:** Means that its execution consists of performing individual actions (steps) in a specific sequence.\n",
    "Moreover, each command of the algorithm must be executed within a finite amount of time.\n",
    "2. **Definiteness:** Means that for a given set of initial (input) values, the algorithm uniquely determines the sequence of actions to be performed and the result of these actions.\n",
    "3. **Executability:** Means that an algorithm designed for a specific executor can only contain commands that are included in the command system of executor.\n",
    "4. **Finiteness:** Means that its execution will terminate after a finite (possibly very large) number of steps and within a finite amount of time, regardless of the permissible initial input values.\n",
    "5. **Effectiveness:** Means that upon completion of its execution, results that meet the given goal are necessarily obtained.\n",
    "Algorithms are also considered effective if they determine that a given problem cannot be solved.\n"
   ],
   "id": "b2d8922f74f8323a"
  },
  {
   "metadata": {},
   "cell_type": "code",
   "outputs": [],
   "execution_count": null,
   "source": "",
   "id": "8c3420b78f5c1aa9"
  }
 ],
 "metadata": {
  "kernelspec": {
   "display_name": "Python 3",
   "language": "python",
   "name": "python3"
  },
  "language_info": {
   "codemirror_mode": {
    "name": "ipython",
    "version": 2
   },
   "file_extension": ".py",
   "mimetype": "text/x-python",
   "name": "python",
   "nbconvert_exporter": "python",
   "pygments_lexer": "ipython2",
   "version": "2.7.6"
  }
 },
 "nbformat": 4,
 "nbformat_minor": 5
}
