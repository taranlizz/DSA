{
 "cells": [
  {
   "metadata": {},
   "cell_type": "markdown",
   "source": [
    "# Algorithmic Complexity\n",
    "“Algorithmic Complexity” refers to the computing resources needed by an algorithm to solve a problem. These computing resources can be the time taken for program execution (**time compexity**), or the space used in memory during its execution (**space complexity**).\n",
    "\n",
    "The aim to minimize these resourses, so an algorithm takes less time and space is considered more efficient.\n",
    "\n",
    "It is important to analyze and understand the algorithmic complexity to choose or design the most efficient algorithm for a specific use-case.\n",
    "\n",
    "## Time vs Space complexity\n",
    "\n",
    "In the context of algorithmic complexity, “time” refers to the amount of computational time that the algorithm takes to execute, while “space” refers to the amount of memory that algorithm needs to complete its operation.\n",
    "\n",
    "### Time complexity\n",
    "The time complexity measures the performance of an algorithm in terms of how much time it takes to complete as the size of the input grows.\n",
    "\n",
    "The time complexity depends on the size of the input. The time is measured in relation how the input grows.\n",
    "\n",
    "## Space complexity\n",
    "The space complexity measures how much memory (or space) the algorithm uses as the size of input grows.\n",
    "\n",
    "The space complexity refers to the amount of memory (RAM) an algorithm needs to complete its task. This includes all memory used by the variables, data structures, input data, and any extra space the algorithm might need during execution.\n",
    "\n",
    "The total amount of memory used by an algorithm can be divided into two parts:\n",
    "\n",
    "1. **Input Size**: This refers to the memory required to store the input data itself. It is the space the algorithm needs just to hold the data it will work on. The size of the input directly impacts the space complexity, because as the input grows, so does memory needed to store it.\n",
    "2. **Auxiliary Space:** This refers to any extra memory the algorithm needs to perform its task in addition to the memory used for the input.\n",
    "\n",
    "    This includes temporary variables, additional data structures, and any other space that isn’t part of the input but is necessary for the algorithm to run.\n",
    "\n",
    "    When we calculate **space complexity**, we typically include **both**:\n",
    "\n",
    "    - **The input size**: the memory used to store the input data itself.\n",
    "    - **The auxiliary space**: the memory used for any extra variables, data structures, or temporary storage.\n",
    "\n",
    "It’s important to note that time and space are often at odds with each other; optimizing an algorithm to be quicker often requires taking up more memory, and decreasing memory usage can often make the algorithm slower. This is known as the **space-time tradeoff.**\n",
    "\n",
    "## Big O Notation\n",
    "\n",
    "### What is Big-O Notation?\n",
    "\n",
    "**Big-O**, commonly referred to as “**Order of**”, is a way to express the **upper bound** of an algorithm’s time complexity, since it analyses the **worst-case** situation of the algorithm.\n",
    "It provides an **upper limit** on the time taken by an algorithm in terms of the size of the input. \n",
    "\n",
    "It’s denoted as **O(f(n))**, where **f(n)** is a function that represents the number of operations (steps) that an algorithm performs to solve a problem of size **n**.\n",
    "\n",
    "<aside>\n",
    "💡\n",
    "\n",
    "***Big-O notation** is used to describe the performance or complexity of an algorithm. Specifically, it describes the **worst-case scenario** in terms of **time** or **space complexity.***\n",
    "\n",
    "</aside>\n",
    "\n",
    "**Important Point:**\n",
    "\n",
    "- **Big O notation** only describes the asymptotic behavior of a function, not its exact value.\n",
    "- The **Big O notation** can be used to compare the efficiency of different algorithms or data structures.\n",
    "- **Asymptotic behavior**: Big-O notation is concerned with how an algorithm behaves for **very large input sizes** (as n approaches infinity). As we've seen, for large n, the higher-order terms completely dominate the lower-order terms and constants.\n",
    "- For small values of n, constants and lower-order terms might matter, but **Big-O notation is designed to simplify the analysis** by focusing on the dominant term for large n. That’s why we ignore constants and lower-order terms—they don’t affect the algorithm's efficiency when n is large enough.\n",
    "\n",
    "![bigO](https://media.geeksforgeeks.org/wp-content/uploads/20240329121436/big-o-analysis-banner.webp)\n"
   ],
   "id": "df268e1607816d3b"
  },
  {
   "metadata": {},
   "cell_type": "markdown",
   "source": [
    "The notation *f(n) = O(g(n))* means that for sufficiently large *n*, the function *f(n)* does not grow faster than a constant multiple of *g(n)*. In other words:\n",
    "\n",
    "$$\n",
    "f(n) \\leq c \\cdot g(n) \\quad \\text{for all } n \\geq n_0\n",
    "$$\n",
    "\n",
    "This means:\n",
    "\n",
    "- *g(n)* is a function that represents an upper bound for *f(n)*.\n",
    "- The function *f(n)* may fluctuate for small values of *n*, but after a certain point (*n₀*), it will always stay below some constant multiple of *g(n)*.\n",
    "\n",
    "The __main point of algorithmic complexity__ is to predict how an algorithm's runtime and memory usage grow as the input size increases, so we can choose the most efficient algorithm for a given task, especially when working with large data.\n",
    "\n",
    "Slow algorithms might work fine for small inputs but become unusable with large data.\n",
    "Memory-hungry algorithms can crash a program or slow down a system.\n",
    "\n"
   ],
   "id": "f9f235b0367247b6"
  },
  {
   "metadata": {},
   "cell_type": "markdown",
   "source": [
    "## Growth hierarchy\n",
    "When evaluating an algorithm's efficiency, we must take into consideration the efficiency of each step withing the algorithm, we then find the highest order step, or step that has the worst performance, and prioritize it over all of the better performing steps.\n",
    "\n",
    "![order](https://miro.medium.com/v2/resize:fit:1300/1*jRE5c9YXdi-hqOzX5WbF6A.png)\n",
    "\n"
   ],
   "id": "99e1df93be83bbcb"
  },
  {
   "metadata": {},
   "cell_type": "markdown",
   "source": "## Common runtimes\n",
   "id": "474a004095b30803"
  },
  {
   "metadata": {},
   "cell_type": "markdown",
   "source": "### Constant O(1)",
   "id": "1d9db3bbc365543a"
  },
  {
   "metadata": {},
   "cell_type": "code",
   "source": [
    "def constant_func(arr): # the function does nothing with the list\n",
    "    result = 100 * 1000 # the expression always results in the same value and                       always take the same amount of time\n",
    "    return result"
   ],
   "id": "578f9735e7316557",
   "outputs": [],
   "execution_count": null
  },
  {
   "metadata": {},
   "cell_type": "markdown",
   "source": "### Linear O(n)",
   "id": "3458bf32b834cd86"
  },
  {
   "metadata": {},
   "cell_type": "code",
   "source": [
    "def linear_func(arr):\n",
    "    for element in arr: #O(n), the function iterates through                                      each element in the list\n",
    "        print(1000 * 100000) # constant time O(1), the statement always takes                       the same amount of time\n",
    "\n",
    "arr = [1, 2, 3, 4, 5, 6, 7]\n",
    "linear_func(arr)"
   ],
   "id": "76628ef9345d7335",
   "outputs": [],
   "execution_count": null
  },
  {
   "metadata": {},
   "cell_type": "markdown",
   "source": "### Quadratic O(n^2)",
   "id": "1ae019b295e56162"
  },
  {
   "metadata": {},
   "cell_type": "code",
   "source": [
    "import numpy as np\n",
    "\n",
    "def square(n):\n",
    "    matrix = np.empty((n, n))\n",
    "    for i in range(n):    # O(n)\n",
    "        for j in range(n): #O(n) => the function's runtime is quadratic O(n^2)\n",
    "            matrix[i, j] = j\n",
    "    print(matrix)\n",
    "    print(matrix.shape) #(n, n)\n",
    "    print(matrix.ndim)  #2\n",
    "    print(matrix.size)  #n^2\n",
    "\n",
    "square(5)"
   ],
   "id": "2119100c966e8734",
   "outputs": [],
   "execution_count": null
  },
  {
   "metadata": {},
   "cell_type": "markdown",
   "source": "### Cubic O(n^3)",
   "id": "f37347aa05d6ed37"
  },
  {
   "metadata": {},
   "cell_type": "code",
   "source": [
    "def cube(n):\n",
    "    matrix = np.empty((n, n, n))\n",
    "    for i in range(n): # O(n)\n",
    "        for j in range(n): # O(n)\n",
    "            for k in range(n): # O(n) => the function's runtime is O(n^3)\n",
    "                matrix[i, j, k] = k\n",
    "    print(matrix)\n",
    "    print(matrix.shape) #(n, n, n)\n",
    "    print(matrix.ndim)  # n\n",
    "    print(matrix.size)  # n^3\n",
    "\n",
    "cube(5)"
   ],
   "id": "c227c99f56a587a1",
   "outputs": [],
   "execution_count": null
  },
  {
   "metadata": {},
   "cell_type": "markdown",
   "source": "### Logarithmic O(log n)",
   "id": "286c35214e889979"
  },
  {
   "metadata": {
    "ExecuteTime": {
     "end_time": "2025-04-22T21:58:06.825794Z",
     "start_time": "2025-04-22T21:58:06.795830Z"
    }
   },
   "cell_type": "code",
   "source": [
    "# Recursive implementation of O(log n)\n",
    "def log_rec_func(n):\n",
    "    if n == 0:\n",
    "        return \"Done\"\n",
    "    n //= 2\n",
    "    return log_rec_func(n)\n",
    "log_rec_func(8)"
   ],
   "id": "b2e7b1206f0d2a1c",
   "outputs": [
    {
     "name": "stdout",
     "output_type": "stream",
     "text": [
      "4\n",
      "2\n",
      "1\n",
      "0\n"
     ]
    },
    {
     "data": {
      "text/plain": [
       "'Done'"
      ]
     },
     "execution_count": 24,
     "metadata": {},
     "output_type": "execute_result"
    }
   ],
   "execution_count": 24
  },
  {
   "metadata": {
    "ExecuteTime": {
     "end_time": "2025-04-22T21:54:10.046618Z",
     "start_time": "2025-04-22T21:54:10.030694Z"
    }
   },
   "cell_type": "code",
   "source": [
    "# Non-recursive implementation of O(log n)\n",
    "def log_no_rec_func(n): # n = 8     iteration 1: n = 8 // 2 = 4\n",
    "    while n > 1:        #           iteration 2: n = 4 // 2 = 2\n",
    "        n //= 2         #           iteration 3: n = 2 // 2 = 1\n",
    "                        # The number of iterations = log 8 = 3"
   ],
   "id": "d37060c32fa1b97b",
   "outputs": [],
   "execution_count": 21
  },
  {
   "metadata": {},
   "cell_type": "markdown",
   "source": "#### Binary Search",
   "id": "8b575dacad65a089"
  },
  {
   "metadata": {
    "ExecuteTime": {
     "end_time": "2025-04-22T22:21:57.320980Z",
     "start_time": "2025-04-22T22:21:57.291830Z"
    }
   },
   "cell_type": "code",
   "source": [
    "# Non-recursive implementation of binary search\n",
    "\n",
    "def binary_search(arr, item):\n",
    "    low = 0\n",
    "    high = len(arr) - 1\n",
    "\n",
    "    while low <= high:\n",
    "        mid = (low + high) // 2\n",
    "        guess = arr[mid]\n",
    "        if guess == item:\n",
    "            return mid\n",
    "        if guess > item:\n",
    "            high = mid - 1\n",
    "        else:\n",
    "            low = mid + 1\n",
    "    return None\n",
    "\n",
    "my_list = [1, 2, 3, 4, 5, 6]\n",
    "print(binary_search(my_list, 4))"
   ],
   "id": "4a10c5aca06c45ad",
   "outputs": [
    {
     "name": "stdout",
     "output_type": "stream",
     "text": [
      "3\n"
     ]
    }
   ],
   "execution_count": 29
  },
  {
   "metadata": {
    "ExecuteTime": {
     "end_time": "2025-04-22T22:40:01.180109Z",
     "start_time": "2025-04-22T22:40:01.166605Z"
    }
   },
   "cell_type": "code",
   "source": [
    "# Recursive implementation\n",
    "def binary_search_recursive(arr, item, low, high):\n",
    "    mid = (low + high) // 2\n",
    "    guess = arr[mid]\n",
    "    if guess == item:\n",
    "        return mid\n",
    "    if guess > item:\n",
    "        return binary_search_recursive(arr, item, low, mid - 1)\n",
    "    if guess < item:\n",
    "        return binary_search_recursive(arr, item, mid + 1, high)\n",
    "    return None\n",
    "my_list = [1, 2, 3, 4, 5, 6]\n",
    "print(binary_search_recursive(my_list, 4, 0, len(my_list) - 1))"
   ],
   "id": "cf9e884261f0999b",
   "outputs": [
    {
     "name": "stdout",
     "output_type": "stream",
     "text": [
      "3\n"
     ]
    }
   ],
   "execution_count": 32
  }
 ],
 "metadata": {
  "kernelspec": {
   "display_name": "Python 3 (ipykernel)",
   "language": "python",
   "name": "python3"
  },
  "language_info": {
   "codemirror_mode": {
    "name": "ipython",
    "version": 2
   },
   "file_extension": ".py",
   "mimetype": "text/x-python",
   "name": "python",
   "nbconvert_exporter": "python",
   "pygments_lexer": "ipython2",
   "version": "2.7.6"
  }
 },
 "nbformat": 4,
 "nbformat_minor": 5
}
