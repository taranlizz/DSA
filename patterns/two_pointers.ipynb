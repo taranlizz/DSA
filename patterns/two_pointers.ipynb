{
 "cells": [
  {
   "metadata": {},
   "cell_type": "markdown",
   "source": "# Two Pointers Pattern",
   "id": "cb55e16a86aa6ef"
  },
  {
   "metadata": {},
   "cell_type": "markdown",
   "source": [
    "## What is Two Pointer Technique?\n",
    "\n",
    "Two pointer technique is normally used for **searching**, and it uses **two pointers in one loop** over the given data structure.\n",
    "This is a common approach used to solve coding problems, mostly related to **strings**, **arrays**, and **linked lists**.\n",
    "\n",
    "---\n",
    "\n",
    "## Why You Must Know It?\n",
    "\n",
    "In order to use two pointers, most of the time the data structure needs to be **ordered** in some way.\n",
    "This helps reduce the time complexity from **O(n²)** or **O(n³)** to **O(n)** using just one loop,\n",
    "allowing you to **search each item only once**.\n",
    "\n",
    "So, depending on whether the input string/array is sorted or not,\n",
    "the two-pointer method can take **O(n log n)** time complexity or even better, **O(n)**.\n",
    "\n",
    "---\n",
    "\n",
    "## Variants of Two Pointer Technique\n",
    "\n",
    "### 🔷 Opposite Directional\n",
    "- One pointer starts from the **beginning**, and the other starts from the **end**.\n",
    "- The pointers move **toward each other**, typically used when the array is **sorted**.\n",
    "- This variant is useful for problems where you're trying to find a **pair that meets a condition** (e.g., two numbers summing to a target).\n",
    "\n",
    "### 🔶 Equi-directional\n",
    "- Both pointers start from the **beginning** of the array.\n",
    "- One pointer moves **faster** (fast-runner), and the other **slower** (slow-runner).\n",
    "- Commonly used for:\n",
    "  - **Cycle detection** (e.g., Floyd’s Tortoise and Hare)\n",
    "  - **Sliding window** problems (e.g., max sum of subarray of size `k`, longest substring without repeating characters)\n",
    "\n"
   ],
   "id": "22dfc94820b3cf92"
  },
  {
   "metadata": {},
   "cell_type": "markdown",
   "source": [
    "## Examples\n",
    "### 1. Two Sum Sorted (Opposite directional)\n",
    "Given a sorted array numbers and a target target, return the 1-based indices of the two numbers such that they add up to target.\n"
   ],
   "id": "49c150051c2a1183"
  },
  {
   "metadata": {},
   "cell_type": "code",
   "outputs": [],
   "execution_count": null,
   "source": [
    "def twoSum(numbers, target):\n",
    "        result = []\n",
    "\n",
    "        left = 0\n",
    "        right = len(numbers) - 1\n",
    "\n",
    "        while left < right:\n",
    "            current_sum = numbers[left] + numbers[right]\n",
    "            if current_sum == target:\n",
    "                return [left + 1, right + 1]\n",
    "            elif current_sum < target:\n",
    "                left += 1\n",
    "            else:\n",
    "                right -= 1"
   ],
   "id": "407dd5dfec477fd8"
  },
  {
   "metadata": {},
   "cell_type": "markdown",
   "source": [
    "Since the array is sorted, increasing left moves to a larger number, and decreasing right moves to a smaller number.\n",
    "We’re effectively narrowing the search space based on how the current sum compares to the target."
   ],
   "id": "c6e09f6d88c4bb9d"
  },
  {
   "metadata": {},
   "cell_type": "markdown",
   "source": [
    "#### Time complexity: `O(n)`\n",
    "#### Space complexity: `O(1)`"
   ],
   "id": "7c9feeb742c2b74"
  },
  {
   "metadata": {},
   "cell_type": "markdown",
   "source": [
    "### 2. Max Sum of Elements in Subarray of size k (Sliding window)\n",
    "\n",
    "Given an array of integers n and a positive number k, find the maximum sum of any contiguous subarray of size k.\n"
   ],
   "id": "f437ccbc778b6cce"
  },
  {
   "metadata": {},
   "cell_type": "code",
   "outputs": [],
   "execution_count": null,
   "source": [
    "def max_sum_subarray_of_k(numbers, k):\n",
    "    # Declaring two variable: sum of elements per window, max sum of elements among all windows\n",
    "    window_sum = 0\n",
    "    max_sum = 0\n",
    "\n",
    "    # Iterate through the first window\n",
    "    for i in range(k):\n",
    "        window_sum += numbers[i]\n",
    "\n",
    "    # Assign first max sum value\n",
    "    max_sum = window_sum\n",
    "\n",
    "    # Implement mechanism of sliding window by 1 each iteration windows slides (add) by 1 element\n",
    "    # and discards (subtract) the first element of previous window.\n",
    "    # Each iteration we compare current window sum to the max sum value.\n",
    "    for i in range(k, len(numbers) - 1):\n",
    "        window_sum += numbers[i] - numbers[i - k]\n",
    "        max_sum = max(max_sum, window_sum)\n",
    "\n",
    "    return max_sum\n",
    "\n",
    "max_sum_subarray_of_k([1, 9, -1, -2, 7, 3, -1,2], 4)"
   ],
   "id": "b5858aa31d86fd14"
  },
  {
   "metadata": {},
   "cell_type": "markdown",
   "source": [
    "#### Time complexity: `O(n)`\n",
    "#### Space complexity: `O(1)`\n"
   ],
   "id": "b08e4f1aca0e5464"
  },
  {
   "metadata": {},
   "cell_type": "markdown",
   "source": "",
   "id": "506cc12426e0b93"
  }
 ],
 "metadata": {
  "kernelspec": {
   "display_name": "Python 3",
   "language": "python",
   "name": "python3"
  },
  "language_info": {
   "codemirror_mode": {
    "name": "ipython",
    "version": 2
   },
   "file_extension": ".py",
   "mimetype": "text/x-python",
   "name": "python",
   "nbconvert_exporter": "python",
   "pygments_lexer": "ipython2",
   "version": "2.7.6"
  }
 },
 "nbformat": 4,
 "nbformat_minor": 5
}
