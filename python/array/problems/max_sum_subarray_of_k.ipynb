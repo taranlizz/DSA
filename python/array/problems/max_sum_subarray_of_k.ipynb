{
 "cells": [
  {
   "metadata": {},
   "cell_type": "markdown",
   "source": [
    "# Max Sum Of Subarray Of Length k\n",
    "Given an array of integers n and a positive number k, find the maximum sum of any contiguous subarray of size k."
   ],
   "id": "8d638eaf492da03e"
  },
  {
   "metadata": {
    "ExecuteTime": {
     "end_time": "2025-05-21T18:32:03.248085Z",
     "start_time": "2025-05-21T18:32:03.223294Z"
    }
   },
   "cell_type": "code",
   "source": [
    "def max_sum_subarray_of_k(numbers, k):\n",
    "    # Declaring two variable: sum of elements per window, max sum of elements among all windows\n",
    "    window_sum = 0\n",
    "    max_sum = 0\n",
    "\n",
    "    # Iterate through the first window\n",
    "    for i in range(k):\n",
    "        window_sum += numbers[i]\n",
    "\n",
    "    # Assign first max sum value\n",
    "    max_sum = window_sum\n",
    "\n",
    "    # Implement mechanism of sliding window by 1 each iteration windows slides (add) by 1 element\n",
    "    # and discards (subtract) the first element of previous window.\n",
    "    # Each iteration we compare current window sum to the max sum value.\n",
    "    for i in range(k, len(numbers) - 1):\n",
    "        window_sum += numbers[i] - numbers[i - k]\n",
    "        max_sum = max(max_sum, window_sum)\n",
    "\n",
    "    return max_sum\n",
    "\n",
    "max_sum_subarray_of_k([1, 9, -1, -2, 7, 3, -1,2], 4)"
   ],
   "id": "c046cb2ce0273a76",
   "outputs": [
    {
     "data": {
      "text/plain": [
       "13"
      ]
     },
     "execution_count": 1,
     "metadata": {},
     "output_type": "execute_result"
    }
   ],
   "execution_count": 1
  }
 ],
 "metadata": {
  "kernelspec": {
   "display_name": "Python 3",
   "language": "python",
   "name": "python3"
  },
  "language_info": {
   "codemirror_mode": {
    "name": "ipython",
    "version": 2
   },
   "file_extension": ".py",
   "mimetype": "text/x-python",
   "name": "python",
   "nbconvert_exporter": "python",
   "pygments_lexer": "ipython2",
   "version": "2.7.6"
  }
 },
 "nbformat": 4,
 "nbformat_minor": 5
}
