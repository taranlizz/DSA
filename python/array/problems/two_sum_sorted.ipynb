{
 "cells": [
  {
   "metadata": {},
   "cell_type": "markdown",
   "source": [
    "# Two Sum - Input Array Is Sorted\n",
    "Given a **1-indexed** array of integers `numbers` that is already **sorted in non-decreasing order**,\n",
    "find two numbers such that they add up to a specific `target` number.\n",
    "Let these two numbers be `numbers[index1]` and `numbers[index2]` where\n",
    "`1 <= index1 < index2 <= numbers.length`.\n",
    "\n",
    "Return *the indices of the two numbers*, `index1` and `index2`, **added by one**\n",
    "as an integer array `[index1, index2]` of length 2.\n",
    "\n",
    "The tests are generated such that there is **exactly one solution**.\n",
    "You **may not** use the same element twice.\n",
    "\n",
    "Your solution must use only **constant extra space**.\n"
   ],
   "id": "8d52131aa7ac536b"
  },
  {
   "metadata": {},
   "cell_type": "code",
   "outputs": [],
   "execution_count": null,
   "source": [
    "def two_sum_sorted(numbers, target):\n",
    "    left = 0\n",
    "    right = len(numbers) - 1\n",
    "\n",
    "    while left < right:\n",
    "        current_sum = numbers[left] + numbers[right]\n",
    "        if current_sum == target:\n",
    "            return [left + 1, right + 1]\n",
    "        elif current_sum < target:\n",
    "            left += 1\n",
    "        else:\n",
    "            right -= 1 "
   ],
   "id": "c3e96d3b1d3dc73a"
  }
 ],
 "metadata": {
  "kernelspec": {
   "display_name": "Python 3",
   "language": "python",
   "name": "python3"
  },
  "language_info": {
   "codemirror_mode": {
    "name": "ipython",
    "version": 2
   },
   "file_extension": ".py",
   "mimetype": "text/x-python",
   "name": "python",
   "nbconvert_exporter": "python",
   "pygments_lexer": "ipython2",
   "version": "2.7.6"
  }
 },
 "nbformat": 4,
 "nbformat_minor": 5
}
