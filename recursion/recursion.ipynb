{
 "cells": [
  {
   "metadata": {},
   "cell_type": "markdown",
   "source": [
    "# Recursion\n",
    "\n",
    "__Recursion__ is a programming technique where a function calls itself to solve smaller instances of the same problem.\n",
    "\n",
    "## Structure\n",
    "A recursive function typically has:\n",
    "1. __Base Case__ -- a condition that __ends the recursion__.\n",
    "2. __Recursive Call__ -- where the function calls itself with a modified argument, moving closer to the base case."
   ],
   "id": "37c50a129bf97a97"
  },
  {
   "metadata": {},
   "cell_type": "code",
   "source": [
    "# The example of recursive algorithm\n",
    "def get_my_position_in_line(person):\n",
    "    if person.next_in_line is None: #if person doesn't have ref to next person in line - return 1 - BASE CASE\n",
    "        return 1\n",
    "\n",
    "    return 1 + get_my_position_in_line(person.next_in_line) #if person does have ref to next person in line, call the function again until base case is reached - RECURSIVE CALL"
   ],
   "id": "7196c069da174d87",
   "outputs": [],
   "execution_count": null
  },
  {
   "metadata": {},
   "cell_type": "markdown",
   "source": [
    "## Reasons to use recursion\n",
    "### Pros:\n",
    "#### 1. Bridges the gap between elegance and complexity.\n",
    "Recursion often provides concise and expressive solutions to complex problems.\n",
    "Instead of writing deeply nested loops or managing complex control flows, a recursive function describes the logic in a clean, mathematical way.\n",
    "#### 2. Reduces the need for complex loops and auxiliary data structures.\n",
    "Some problems would require stacks, queues, or multiple loops in an iterative approach.\n",
    "With recursion, the call stack implicitly manages the control flow, and you avoid the need to manually manage extra structures.\n",
    "#### 3. Can reduce time complexity easily with memoization.\n",
    "In overlapping subproblem scenarios recursion combined with memoization avoids redundant calculations, reducing time complexity drastically.\n",
    "#### 4. Works really well with recursive structures and graphs.\n",
    "Data structures like trees, linked lists, and graphs have inherently recursive nature. Recursion mirrors their structure, making it intuitive to navigate or manipulate them.\n",
    "\n",
    "### Cons:\n",
    "#### 1. Slowness due to CPU overhead\n",
    "Each recursive call involves:\n",
    "* Creating a new function call on the call stack\n",
    "* Saving local variables, return address, etc.\n",
    "* Restoring them after return.\n",
    "This adds CPU overhead compared to iteration, which reuses the same frame in a loop.\n",
    "For large input sizes, recursion may be slower than an iterative approach due to constant function call management.\n",
    "#### 2. Can lead to out of memory errors / stack overflow exceptions\n",
    "Each recursive call adds a new layer to the call stack.\n",
    "If the depth is too great and the base case is too far (or missing), it can exceed the system's stack memory.\n",
    "#### 3. Can be unnecessarily complex if poorly constructed.\n",
    "Recursion requires careful design:\n",
    "* If the base case is wrong or missing, the function may never stop.\n",
    "* If the recursion doesn't reduce the problem correctly, it might do redundant work or behave incorrectly."
   ],
   "id": "ecef557f36a3b736"
  },
  {
   "metadata": {},
   "cell_type": "markdown",
   "source": [
    "## Call Stack\n",
    "### What is call stack?\n",
    "Call stack is a universal concept across almost all modern programming languages, because it's a fundamental mechanism used by computer architectures and language runtimes to manage function calls and returns.\n",
    "It's a stack data structure used to:\n",
    "1. Keep track of active function calls\n",
    "2. Store information like:\n",
    "    * The return address\n",
    "    * Local variables\n",
    "    * Parameters\n",
    "    * The function's execution state\n",
    "3. Every time a function is called:\n",
    "    * A new stack frame is pushed onto the stack\n",
    "    * When the function returns, the stack frame is popped off\n",
    "### Why is it important in recursion?\n",
    "1. Recursion relies heavily on the call stack to:\n",
    "    * Track each recursive call's context\n",
    "    * Restore previous states as recursive calls return\n",
    "2. If the base case is wrong or missing, the function might never stop exceeding pre-allocated buffer of memory, that the program has."
   ],
   "id": "cc28697da355cf24"
  },
  {
   "metadata": {},
   "cell_type": "markdown",
   "source": [
    "## Recursion with strings\n",
    "### String reversal"
   ],
   "id": "3ae2fa17d2231866"
  },
  {
   "metadata": {},
   "cell_type": "code",
   "source": [
    "def reverse_string(input):\n",
    "    # What is the base case? - What can I no longer continue?\n",
    "    if input == \"\":\n",
    "        return \"\"\n",
    "    # What is the smallest amount of work I can do in each iteration?\n",
    "    # - Between each invocation, what's the small \"unit\" I can reverse?\n",
    "    return reverse_string(input[1:]) + input[0]\n",
    "print(reverse_string(\"hello\"))\n"
   ],
   "id": "acb0a9202b583080",
   "outputs": [],
   "execution_count": null
  },
  {
   "metadata": {},
   "cell_type": "markdown",
   "source": "### Palindrome",
   "id": "ae30d61e1f5e601f"
  },
  {
   "metadata": {},
   "cell_type": "code",
   "source": [
    "def palindrome(input):\n",
    "    # Define the base-case / stopping condition\n",
    "    if len(input) == 0 or len(input) == 1:\n",
    "        return True\n",
    "    # Do some work to shrink the problem space\n",
    "    if input[0] == input[-1]:\n",
    "        return palindrome(input[1:-1])\n",
    "\n",
    "    # Additional base-case to handle non-palindrome\n",
    "    return False\n",
    "\n",
    "print(palindrome(\"racecar\"))"
   ],
   "id": "d20840419a162bae",
   "outputs": [],
   "execution_count": null
  },
  {
   "metadata": {},
   "cell_type": "markdown",
   "source": "## Recursion with numbers",
   "id": "4cb4ca3be4fc35d"
  },
  {
   "metadata": {},
   "cell_type": "markdown",
   "source": "### Decimal to binary",
   "id": "ad746db017741924"
  },
  {
   "metadata": {},
   "cell_type": "code",
   "source": [
    "def find_binary(decimal, result = \"\"):\n",
    "    if decimal == 0:\n",
    "        return result\n",
    "    result = str(decimal % 2) + result\n",
    "    return find_binary(decimal // 2, result)\n",
    "print(find_binary(233))"
   ],
   "id": "619a604381084236",
   "outputs": [],
   "execution_count": null
  },
  {
   "metadata": {},
   "cell_type": "markdown",
   "source": "### Sum of natural numbers",
   "id": "24aad72725d334aa"
  },
  {
   "metadata": {},
   "cell_type": "code",
   "source": [
    "def recursive_summation(input_number):\n",
    "    if input_number <= 1:\n",
    "        return input_number\n",
    "    return input_number + recursive_summation(input_number - 1)"
   ],
   "id": "6f8d65519656ac07",
   "outputs": [],
   "execution_count": null
  },
  {
   "metadata": {},
   "cell_type": "markdown",
   "source": [
    "## Divide && Conquer\n",
    "\n",
    "1. Divide problem into several smaller subproblems.\n",
    "   Normally, the subproblems are similar to the original.\n",
    "2. Conquer the subproblems by solving them recursively.\n",
    "   Base case: solve small enough problems by brute force.\n",
    "3. Combine the solutions to get a solution to the subproblems.\n",
    "   And finally a solution to the original problem.\n",
    "4. Divide && Conquer algorithms are normally recursive."
   ],
   "id": "fa20f36638d29ba7"
  },
  {
   "metadata": {},
   "cell_type": "markdown",
   "source": "### Binary Search\n",
   "id": "72b912b1a2831bbb"
  },
  {
   "metadata": {},
   "cell_type": "code",
   "source": [
    "def binary_search(array, left, right, target):\n",
    "    if left > right:\n",
    "        return -1\n",
    "    mid = (left + right) // 2\n",
    "    if target == array[mid]:\n",
    "        return mid\n",
    "    if target < array[mid]:\n",
    "        return binary_search(array, left, mid - 1, target)\n",
    "    if target > array[mid]:\n",
    "        return binary_search(array, mid + 1, right, target)\n",
    "print(binary_search([1,2,3,4,5], 0, len([1,2,3,4,5]) - 1, 3))"
   ],
   "id": "506df770d31d13a",
   "outputs": [],
   "execution_count": null
  },
  {
   "metadata": {},
   "cell_type": "markdown",
   "source": "### Fibonacci (Non-Optimized)",
   "id": "4945665c9e350ce8"
  },
  {
   "metadata": {},
   "cell_type": "code",
   "source": [
    "# F(n) = F(n-1) + F(n-2)\n",
    "# F(0) = 0 F(1) = 1\n",
    "def fib(n):\n",
    "    if n == 0 or n == 1:\n",
    "        return n\n",
    "    else:\n",
    "        return fib(n - 1) + fib(n - 2)\n",
    "print(fib(6))"
   ],
   "id": "cc5dcd7bc147d6a6",
   "outputs": [],
   "execution_count": null
  },
  {
   "metadata": {},
   "cell_type": "markdown",
   "source": "### Merge sort",
   "id": "d3c576930e3f2c31"
  },
  {
   "metadata": {
    "ExecuteTime": {
     "end_time": "2025-05-11T21:24:36.327390Z",
     "start_time": "2025-05-11T21:24:36.307381Z"
    }
   },
   "cell_type": "code",
   "source": [
    "def merge_sort(data, start, end):\n",
    "    if start < end:\n",
    "        mid = (start + end) // 2\n",
    "        merge_sort(data, start, mid)\n",
    "        merge_sort(data, mid + 1, end)\n",
    "        merge(data, start, mid, end)\n",
    "\n",
    "def merge(data, start, mid, end):\n",
    "    #Build temp array to avoid modifying the original contents\n",
    "    temp = []\n",
    "    i = start\n",
    "    j = mid + 1\n",
    "    # While both sub-array have values, then try and merge them in sorted order\n",
    "    while i <= mid and j <= end:\n",
    "        if data[i] <= data[j]:\n",
    "            temp.append(data[i])\n",
    "            i += 1\n",
    "        else:\n",
    "            temp.append(data[j])\n",
    "            j += 1\n",
    "\n",
    "    # Add the rest of the values from the left sub-array into the result\n",
    "    while i <= mid:\n",
    "        temp.append(data[i])\n",
    "        i += 1\n",
    "\n",
    "    # Add the rest of the values from the right sub-array into the result\n",
    "    while j <= end:\n",
    "        temp.append(data[j])\n",
    "        j += 1\n",
    "\n",
    "    for i in range(start, end+1):\n",
    "        data[i] = temp[i - start]\n",
    "\n",
    "data = [1,-4, 5, 12, 2, 11]\n",
    "merge_sort(data, 0, len(data) - 1)\n",
    "print(data)"
   ],
   "id": "8e81f3916b4f88f",
   "outputs": [
    {
     "name": "stdout",
     "output_type": "stream",
     "text": [
      "[-4, 1, 2, 5, 11, 12]\n"
     ]
    }
   ],
   "execution_count": 21
  },
  {
   "metadata": {},
   "cell_type": "code",
   "outputs": [],
   "execution_count": null,
   "source": "",
   "id": "cda3f9819ad7c67e"
  }
 ],
 "metadata": {
  "kernelspec": {
   "display_name": "Python 3",
   "language": "python",
   "name": "python3"
  },
  "language_info": {
   "codemirror_mode": {
    "name": "ipython",
    "version": 2
   },
   "file_extension": ".py",
   "mimetype": "text/x-python",
   "name": "python",
   "nbconvert_exporter": "python",
   "pygments_lexer": "ipython2",
   "version": "2.7.6"
  }
 },
 "nbformat": 4,
 "nbformat_minor": 5
}
